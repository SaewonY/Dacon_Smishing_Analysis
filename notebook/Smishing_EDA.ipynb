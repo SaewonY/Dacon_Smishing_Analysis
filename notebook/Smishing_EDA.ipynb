{
 "cells": [
  {
   "cell_type": "code",
   "execution_count": 58,
   "metadata": {},
   "outputs": [],
   "source": [
    "import re\n",
    "import os\n",
    "import numpy as np\n",
    "import pandas as pd\n",
    "from konlpy.tag import Mecab\n",
    "import matplotlib.pylab as plt\n",
    "\n",
    "plt.style.use('seaborn')\n",
    "color_pal = [x['color'] for x in plt.rcParams['axes.prop_cycle']]\n",
    "pd.set_option('max_columns', 100) # So we can see more columns"
   ]
  },
  {
   "cell_type": "code",
   "execution_count": 145,
   "metadata": {},
   "outputs": [],
   "source": [
    "def build_vocab(sentence):\n",
    "    vocab = {}\n",
    "    for word in sentence:\n",
    "        try:\n",
    "            vocab[word] += 1\n",
    "        except KeyError:\n",
    "            vocab[word] = 1\n",
    "    return vocab"
   ]
  },
  {
   "cell_type": "code",
   "execution_count": 19,
   "metadata": {},
   "outputs": [],
   "source": [
    "from soynlp.hangle import decompose\n",
    "\n",
    "doublespace_pattern = re.compile('\\s+')\n",
    "\n",
    "def preprocess_text(sent):\n",
    "    sent = sent.replace('XXX', 'X')\n",
    "    def transform(char):\n",
    "        if char == ' ':\n",
    "            return char\n",
    "        elif char == 'X':\n",
    "            return ' X'\n",
    "        elif char == '.':\n",
    "            return '. '\n",
    "        else:\n",
    "            return char\n",
    "    sent_ = ''.join(transform(char) for char in sent)\n",
    "    sent_ = doublespace_pattern.sub(' ', sent_)\n",
    "    return sent_"
   ]
  },
  {
   "cell_type": "code",
   "execution_count": 315,
   "metadata": {
    "scrolled": false
   },
   "outputs": [
    {
     "name": "stdout",
     "output_type": "stream",
     "text": [
      "total 933576\r\n",
      "drwxr-xr-x 3 chrisyang chrisyang      4096  1월  9 22:38 ./\r\n",
      "drwxrwxr-x 9 chrisyang chrisyang      4096  1월  9 13:08 ../\r\n",
      "-rw-rw-r-- 1 chrisyang chrisyang  35034396  1월  8 02:40 fasttext_4gram_vocab.pkl\r\n",
      "-rw-rw-r-- 1 chrisyang chrisyang   7494606  1월  9 20:57 fasttext_5gram_200_epcoh_10_nouns.pkl\r\n",
      "-rw-rw-r-- 1 chrisyang chrisyang  50629687  1월  8 16:07 fasttext_bigram_300_epoch_10.pkl\r\n",
      "-rw-rw-r-- 1 chrisyang chrisyang  50629687  1월  8 21:53 fasttext_bigram_300_epoch_30.pkl\r\n",
      "-rw-r--r-- 1 chrisyang chrisyang  35034396  1월  7 14:38 fasttext_bigram_vocab.pkl\r\n",
      "-rw-rw-r-- 1 chrisyang chrisyang  35034396  1월  8 02:39 fasttext_trigram_vocab.pkl\r\n",
      "-rw-r--r-- 1 chrisyang chrisyang  35034396  1월  5 22:02 fasttext_vocab.pkl\r\n",
      "-rw-rw-r-- 1 chrisyang chrisyang  14355335  1월  9 19:46 glove_200_epoch_10_nouns.pkl\r\n",
      "-rw-rw-r-- 1 chrisyang chrisyang  97296415  1월  8 22:40 glove_300_epoch_10.pkl\r\n",
      "drwxr-xr-x 2 chrisyang chrisyang      4096  1월  8 11:10 .ipynb_checkpoints/\r\n",
      "-rw-rw-r-- 1 chrisyang chrisyang   3576801  1월  7 14:38 preprocessed_test_jamo.csv\r\n",
      "-rw-rw-r-- 1 chrisyang chrisyang    698613  1월  9 19:54 preprocessed_test_nouns.csv\r\n",
      "-rw-rw-r-- 1 chrisyang chrisyang 394642565  1월  7 14:38 preprocessed_train_jamo.csv\r\n",
      "-rw-rw-r-- 1 chrisyang chrisyang  68397373  1월  9 19:54 preprocessed_train_nouns.csv\r\n",
      "-rw-r--r-- 1 chrisyang chrisyang   1167417 12월 16 13:15 public_test.csv\r\n",
      "-rw-rw-r-- 1 chrisyang chrisyang     47272  1월  9 22:29 submission.csv\r\n",
      "-rw-r--r-- 1 chrisyang chrisyang 126845824 12월 16 13:15 train.csv\r\n"
     ]
    }
   ],
   "source": [
    "!ls -alF ../input"
   ]
  },
  {
   "cell_type": "code",
   "execution_count": 3,
   "metadata": {},
   "outputs": [],
   "source": [
    "DATASET_PATH = '../input'"
   ]
  },
  {
   "cell_type": "code",
   "execution_count": 291,
   "metadata": {},
   "outputs": [],
   "source": [
    "train_df = pd.read_csv(os.path.join(DATASET_PATH, 'train.csv'))\n",
    "test_df = pd.read_csv(os.path.join(DATASET_PATH, 'public_test.csv'))\n",
    "# train_df = pd.read_csv(os.path.join(DATASET_PATH, 'preprocessed_train.csv'))\n",
    "# test_df = pd.read_csv(os.path.join(DATASET_PATH, 'preprocessed_test.csv'))\n",
    "# submission = pd.read_csv(os.path.join(DATASET_PATH, 'submission.csv'))"
   ]
  },
  {
   "cell_type": "code",
   "execution_count": 169,
   "metadata": {},
   "outputs": [],
   "source": [
    "mecab = Mecab()"
   ]
  },
  {
   "cell_type": "code",
   "execution_count": 14,
   "metadata": {},
   "outputs": [
    {
     "name": "stdout",
     "output_type": "stream",
     "text": [
      "0  X은행성산 X팀장입니다. 행복한주말되세요\n",
      "\n",
      "0 ['행성', '산', '팀장', '행복', '주말']\n",
      "\n",
      "1 오늘도많이웃으시는하루시작하세요 X은행 진월동VIP라운지 X올림\n",
      "\n",
      "1 ['오늘', '하루', '시작', '은행', '진월동', '라운지']\n",
      "\n",
      "2 안녕하십니까 고객님. X은행입니다. 금일 납부하셔야 할 금액은 153600원 입니다. 감사합니다. 새해 복 많이 받으십시오. X은행옥포 X올림\n",
      "\n",
      "2 ['안녕', '고객', '은행', '금일', '납부', '금액', '원', '감사', '새해', '복', '은행', '옥포']\n",
      "\n",
      "3  X 고객님안녕하세요 X은행 X지점입니다지난 한 해 동안 저희 X지점에 보내주신 성원에 감사드립니다. 설렘으로 시작한 2017년소망하시는 일 모두 이 X 고객님의 가정에 늘 건강과 행복이 함께하길 기원하겠습니다. 사랑하는 가족과 함께 정을 나누는 행복한 설 명절 보내세요 X은행 X지점직원일동\n",
      "\n",
      "3 ['고객', '안녕', '은행', '지점', '해', '동안', '저희', '지점', '성원', '감사', '시작', '년', '소망', '일', '고객', '가정', '건강', '행복', '기원', '사랑', '가족', '정', '행복', '설', '명절', '은행', '지점', '직원', '일동']\n",
      "\n",
      "4 1월은 새로움이 가득 X입니다. 올 한해 더 많이행복한 한해되시길바랍니다\n",
      "\n",
      "4 ['월', '한', '행복', '해']\n",
      "\n",
      "5 행복한주말보내세요 X용현남전담직원대리 X올림\n",
      "\n",
      "5 ['행복', '주말', '현남', '전담', '직원', '대리']\n",
      "\n"
     ]
    }
   ],
   "source": [
    "for i, text in enumerate(train_df['text']):\n",
    "    print(i, text)\n",
    "    print()\n",
    "    print(i, mecab.nouns(text))\n",
    "    print()\n",
    "    \n",
    "    if i == 5: break"
   ]
  },
  {
   "cell_type": "code",
   "execution_count": 284,
   "metadata": {},
   "outputs": [],
   "source": [
    "train_df['nouns'] = train_df['text'].apply(lambda x: mecab.nouns(preprocess_text(x)))\n",
    "test_df['nouns'] = test_df['text'].apply(lambda x: mecab.nouns(preprocess_text(x)))"
   ]
  },
  {
   "cell_type": "code",
   "execution_count": 172,
   "metadata": {},
   "outputs": [
    {
     "data": {
      "text/plain": [
       "0                                       [행성, 산, 팀장, 행복, 주말]\n",
       "1                                [오늘, 하루, 시작, 은행, 진월동, 라운지]\n",
       "2            [안녕, 고객, 은행, 금일, 납부, 금액, 원, 감사, 새해, 복, 은행, 옥포]\n",
       "3         [고객, 안녕, 은행, 지점, 해, 동안, 저희, 지점, 성원, 감사, 시작, 년,...\n",
       "4                                             [월, 한, 행복, 해]\n",
       "                                ...                        \n",
       "295940    [고객, 년, 뒤안길, 신년, 기운, 시점, 년, 고객, 가정, 건강, 행복, 원,...\n",
       "295941                [고객, 실버, 웰빙, 신탁, 만기, 도래, 예정, 남양주, 지점]\n",
       "295942    [해, 동안, 은행, 감사, 년, 기, 해년, 가족, 건강, 행복, 기원, 새해, ...\n",
       "295943    [금, 예금, 적금, 만기, 예금, 시간, 내, 내점, 적금, 년, 자동, 연장, ...\n",
       "295944    [안녕, 고객, 스타, 링크, 전담, 직원, 스타, 링크, 고객, 대상, 이벤트, ...\n",
       "Name: nouns, Length: 295945, dtype: object"
      ]
     },
     "execution_count": 172,
     "metadata": {},
     "output_type": "execute_result"
    }
   ],
   "source": [
    "train_df['nouns']"
   ]
  },
  {
   "cell_type": "code",
   "execution_count": 173,
   "metadata": {
    "scrolled": true
   },
   "outputs": [
    {
     "data": {
      "text/plain": [
       "0       [고객, 시작, 주, 행복, 기원, 지난주, 글로벌, 증시, 파월, 미, 연준, 의...\n",
       "1       [긴급, 안내, 은행, 가락동, 지점, 헬리오, 기본, 대출, 이자, 조합, 납부,...\n",
       "2       [고객, 안녕, 올해, 미세먼지, 유난, 거, 새해, 시작, 거, 설, 명절, 감사...\n",
       "3       [고객, 행운, 이번, 기원, 날, 기원, 은행, 내당동, 종합, 금융, 센터, 팀...\n",
       "4       [고객, 새해, 복, 은행, 코스트코, 퇴직, 연금, 담당자, 고객, 퇴직, 연금,...\n",
       "                              ...                        \n",
       "1621    [광고, 고객, 안녕, 고객, 업무, 처리, 창원, 중앙동, 지점, 계장, 업무, ...\n",
       "1622    [고객, 저희, 지점, 거래, 감사, 본점, 서비스, 설문, 전화, 동의, 부탁, ...\n",
       "1623    [고객, 저희, 은행, 지점, 이용, 감사, 이번, 주도, 행복, 시간, 기원, 은...\n",
       "1624    [광고, 신청, 현금, 만, 원, 부동산, 리브, 지금, 부동산, 리브, 신청, 만...\n",
       "1625    [광고, 고객, 안녕, 봉, 점, 대리, 군인, 연금, 수급, 대출, 상품, 출시,...\n",
       "Name: nouns, Length: 1626, dtype: object"
      ]
     },
     "execution_count": 173,
     "metadata": {},
     "output_type": "execute_result"
    }
   ],
   "source": [
    "test_df['nouns']"
   ]
  },
  {
   "cell_type": "code",
   "execution_count": 179,
   "metadata": {},
   "outputs": [],
   "source": [
    "# build vocabulary\n",
    "train_vocab = {}\n",
    "for i in range(len(train_df)):\n",
    "    sentence = train_df['nouns'][i]\n",
    "    for word in sentence:\n",
    "        try: \n",
    "            train_vocab[word] += 1\n",
    "        except KeyError:\n",
    "            train_vocab[word] = 1\n",
    "\n",
    "test_vocab = {}\n",
    "for i in range(len(test_df)):\n",
    "    sentence = test_df['nouns'][i]\n",
    "    for word in sentence:\n",
    "        try: \n",
    "            test_vocab[word] += 1\n",
    "        except KeyError:\n",
    "            test_vocab[word] = 1"
   ]
  },
  {
   "cell_type": "code",
   "execution_count": 184,
   "metadata": {},
   "outputs": [],
   "source": [
    "train_freq_one_words_dict = dict((k, v) for k, v in train_vocab.items() if v <= 1)\n",
    "test_freq_one_words_dict = dict((k, v) for k, v in test_vocab.items() if v <= 1)"
   ]
  },
  {
   "cell_type": "code",
   "execution_count": 187,
   "metadata": {},
   "outputs": [
    {
     "data": {
      "text/plain": [
       "(23584, 4852)"
      ]
     },
     "execution_count": 187,
     "metadata": {},
     "output_type": "execute_result"
    }
   ],
   "source": [
    "# 전체 vocab 갯수\n",
    "len(train_vocab), len(test_vocab)"
   ]
  },
  {
   "cell_type": "code",
   "execution_count": 185,
   "metadata": {},
   "outputs": [
    {
     "data": {
      "text/plain": [
       "(6327, 1590)"
      ]
     },
     "execution_count": 185,
     "metadata": {},
     "output_type": "execute_result"
    }
   ],
   "source": [
    "# 고유값이 하나인 단어의 갯수\n",
    "len(train_freq_one_words_dict), len(test_freq_one_words_dict)"
   ]
  },
  {
   "cell_type": "code",
   "execution_count": 188,
   "metadata": {},
   "outputs": [
    {
     "name": "stdout",
     "output_type": "stream",
     "text": [
      "test words not in train 572 (oov)\n"
     ]
    }
   ],
   "source": [
    "print(\"test words not in train {} (oov)\".format(len(set(test_vocab.keys()) - set(train_vocab.keys()))))"
   ]
  },
  {
   "cell_type": "code",
   "execution_count": 191,
   "metadata": {},
   "outputs": [
    {
     "name": "stdout",
     "output_type": "stream",
     "text": [
      "train total 23584 freq_one 6327 ratio 0.27\n",
      "test total 4852 freq_one 1590 ratio 0.33\n"
     ]
    }
   ],
   "source": [
    "print(\"train total {} freq_one {} ratio {}\".format(len(train_vocab), len(train_freq_one_words_dict), np.round(len(train_freq_one_words_dict) / len(train_vocab), 2)))\n",
    "print(\"test total {} freq_one {} ratio {}\".format(len(test_vocab), len(test_freq_one_words_dict), np.round(len(test_freq_one_words_dict) / len(test_vocab), 2)))"
   ]
  },
  {
   "cell_type": "code",
   "execution_count": null,
   "metadata": {},
   "outputs": [],
   "source": [
    "# for word in train_freq_one_words_dict.keys():\n",
    "#     del train_nouns_vocab[word]\n",
    "\n",
    "# for word in test_freq_one_words_dict.keys():\n",
    "#     del test_nouns_vocab[word]\n",
    "\n",
    "# len(test_nouns_vocab)"
   ]
  },
  {
   "cell_type": "code",
   "execution_count": 192,
   "metadata": {},
   "outputs": [],
   "source": [
    "# def remove_freq_one_word(words, freq_one_key):\n",
    "#     for word in words:\n",
    "#         if word in freq_one_key:\n",
    "#             words.remove(word)\n",
    "#     return words\n",
    "        \n",
    "\n",
    "# test_df['nouns_preprocessed'] = test_df['nouns'].apply(lambda x: remove_freq_one_word(x, test_freq_one_words_dict.keys()))"
   ]
  },
  {
   "cell_type": "code",
   "execution_count": 285,
   "metadata": {},
   "outputs": [],
   "source": [
    "train_df['nouns'] = train_df['nouns'].apply(lambda x: ' '.join(x))\n",
    "test_df['nouns'] = test_df['nouns'].apply(lambda x: ' '.join(x))"
   ]
  },
  {
   "cell_type": "code",
   "execution_count": 286,
   "metadata": {},
   "outputs": [],
   "source": [
    "preprocessed_train_df = train_df[['id', 'year_month', 'nouns', 'smishing']]\n",
    "preprocessed_test_df = test_df[['id', 'year_month', 'nouns']]"
   ]
  },
  {
   "cell_type": "code",
   "execution_count": 287,
   "metadata": {},
   "outputs": [
    {
     "data": {
      "text/html": [
       "<div>\n",
       "<style scoped>\n",
       "    .dataframe tbody tr th:only-of-type {\n",
       "        vertical-align: middle;\n",
       "    }\n",
       "\n",
       "    .dataframe tbody tr th {\n",
       "        vertical-align: top;\n",
       "    }\n",
       "\n",
       "    .dataframe thead th {\n",
       "        text-align: right;\n",
       "    }\n",
       "</style>\n",
       "<table border=\"1\" class=\"dataframe\">\n",
       "  <thead>\n",
       "    <tr style=\"text-align: right;\">\n",
       "      <th></th>\n",
       "      <th>id</th>\n",
       "      <th>year_month</th>\n",
       "      <th>nouns</th>\n",
       "      <th>smishing</th>\n",
       "    </tr>\n",
       "  </thead>\n",
       "  <tbody>\n",
       "    <tr>\n",
       "      <th>0</th>\n",
       "      <td>0</td>\n",
       "      <td>2017-01</td>\n",
       "      <td>행성 산 팀장 행복 주말</td>\n",
       "      <td>0</td>\n",
       "    </tr>\n",
       "    <tr>\n",
       "      <th>1</th>\n",
       "      <td>1</td>\n",
       "      <td>2017-01</td>\n",
       "      <td>오늘 하루 시작 은행 진월동 라운지</td>\n",
       "      <td>0</td>\n",
       "    </tr>\n",
       "    <tr>\n",
       "      <th>2</th>\n",
       "      <td>2</td>\n",
       "      <td>2017-01</td>\n",
       "      <td>안녕 고객 은행 금일 납부 금액 원 감사 새해 복 은행 옥포</td>\n",
       "      <td>0</td>\n",
       "    </tr>\n",
       "    <tr>\n",
       "      <th>3</th>\n",
       "      <td>4</td>\n",
       "      <td>2017-01</td>\n",
       "      <td>고객 안녕 은행 지점 해 동안 저희 지점 성원 감사 시작 년 소망 일 고객 가정 건...</td>\n",
       "      <td>0</td>\n",
       "    </tr>\n",
       "    <tr>\n",
       "      <th>4</th>\n",
       "      <td>5</td>\n",
       "      <td>2017-01</td>\n",
       "      <td>월 한 행복 해</td>\n",
       "      <td>0</td>\n",
       "    </tr>\n",
       "    <tr>\n",
       "      <th>...</th>\n",
       "      <td>...</td>\n",
       "      <td>...</td>\n",
       "      <td>...</td>\n",
       "      <td>...</td>\n",
       "    </tr>\n",
       "    <tr>\n",
       "      <th>295940</th>\n",
       "      <td>336373</td>\n",
       "      <td>2018-12</td>\n",
       "      <td>고객 년 뒤안길 신년 기운 시점 년 고객 가정 건강 행복 원 일 해 새해 복 감사 은행</td>\n",
       "      <td>0</td>\n",
       "    </tr>\n",
       "    <tr>\n",
       "      <th>295941</th>\n",
       "      <td>336375</td>\n",
       "      <td>2018-12</td>\n",
       "      <td>고객 실버 웰빙 신탁 만기 도래 예정 남양주 지점</td>\n",
       "      <td>0</td>\n",
       "    </tr>\n",
       "    <tr>\n",
       "      <th>295942</th>\n",
       "      <td>336376</td>\n",
       "      <td>2018-12</td>\n",
       "      <td>해 동안 은행 감사 년 기 해년 가족 건강 행복 기원 새해 복 은행 점</td>\n",
       "      <td>0</td>\n",
       "    </tr>\n",
       "    <tr>\n",
       "      <th>295943</th>\n",
       "      <td>336377</td>\n",
       "      <td>2018-12</td>\n",
       "      <td>금 예금 적금 만기 예금 시간 내 내점 적금 년 자동 연장 은행 탄현 지점</td>\n",
       "      <td>0</td>\n",
       "    </tr>\n",
       "    <tr>\n",
       "      <th>295944</th>\n",
       "      <td>336378</td>\n",
       "      <td>2018-12</td>\n",
       "      <td>안녕 고객 스타 링크 전담 직원 스타 링크 고객 대상 이벤트 안내 문자 참여 행운 ...</td>\n",
       "      <td>0</td>\n",
       "    </tr>\n",
       "  </tbody>\n",
       "</table>\n",
       "<p>295945 rows × 4 columns</p>\n",
       "</div>"
      ],
      "text/plain": [
       "            id year_month                                              nouns  \\\n",
       "0            0    2017-01                                      행성 산 팀장 행복 주말   \n",
       "1            1    2017-01                                오늘 하루 시작 은행 진월동 라운지   \n",
       "2            2    2017-01                  안녕 고객 은행 금일 납부 금액 원 감사 새해 복 은행 옥포   \n",
       "3            4    2017-01  고객 안녕 은행 지점 해 동안 저희 지점 성원 감사 시작 년 소망 일 고객 가정 건...   \n",
       "4            5    2017-01                                           월 한 행복 해   \n",
       "...        ...        ...                                                ...   \n",
       "295940  336373    2018-12   고객 년 뒤안길 신년 기운 시점 년 고객 가정 건강 행복 원 일 해 새해 복 감사 은행   \n",
       "295941  336375    2018-12                        고객 실버 웰빙 신탁 만기 도래 예정 남양주 지점   \n",
       "295942  336376    2018-12            해 동안 은행 감사 년 기 해년 가족 건강 행복 기원 새해 복 은행 점   \n",
       "295943  336377    2018-12          금 예금 적금 만기 예금 시간 내 내점 적금 년 자동 연장 은행 탄현 지점   \n",
       "295944  336378    2018-12  안녕 고객 스타 링크 전담 직원 스타 링크 고객 대상 이벤트 안내 문자 참여 행운 ...   \n",
       "\n",
       "        smishing  \n",
       "0              0  \n",
       "1              0  \n",
       "2              0  \n",
       "3              0  \n",
       "4              0  \n",
       "...          ...  \n",
       "295940         0  \n",
       "295941         0  \n",
       "295942         0  \n",
       "295943         0  \n",
       "295944         0  \n",
       "\n",
       "[295945 rows x 4 columns]"
      ]
     },
     "execution_count": 287,
     "metadata": {},
     "output_type": "execute_result"
    }
   ],
   "source": [
    "preprocessed_train_df"
   ]
  },
  {
   "cell_type": "code",
   "execution_count": 288,
   "metadata": {},
   "outputs": [],
   "source": [
    "preprocessed_train_df.to_csv('../input/preprocessed_train_nouns.csv', index=False)\n",
    "preprocessed_test_df.to_csv('../input/preprocessed_test_nouns.csv', index=False)"
   ]
  }
 ],
 "metadata": {
  "kernelspec": {
   "display_name": "Python 3",
   "language": "python",
   "name": "python3"
  },
  "language_info": {
   "codemirror_mode": {
    "name": "ipython",
    "version": 3
   },
   "file_extension": ".py",
   "mimetype": "text/x-python",
   "name": "python",
   "nbconvert_exporter": "python",
   "pygments_lexer": "ipython3",
   "version": "3.7.5"
  }
 },
 "nbformat": 4,
 "nbformat_minor": 2
}
